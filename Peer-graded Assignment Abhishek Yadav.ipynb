{
 "cells": [
  {
   "cell_type": "markdown",
   "id": "48944ecd",
   "metadata": {},
   "source": [
    "## Arithmetic Expression Examples\n",
    "\n",
    "Arithmetic expressions are fundamental in programming and data analysis, allowing us to perform various mathematical operations. In this section, we will explore some basic arithmetic operations, including addition, subtraction, multiplication, and division. These operations form the basis for more complex calculations in data science.\n"
   ]
  },
  {
   "cell_type": "code",
   "execution_count": null,
   "id": "92233a19",
   "metadata": {},
   "outputs": [],
   "source": []
  },
  {
   "cell_type": "code",
   "execution_count": null,
   "id": "84adc42a",
   "metadata": {},
   "outputs": [],
   "source": []
  },
  {
   "cell_type": "code",
   "execution_count": null,
   "id": "a3614ac8",
   "metadata": {},
   "outputs": [],
   "source": []
  },
  {
   "cell_type": "code",
   "execution_count": null,
   "id": "9b6eed27",
   "metadata": {},
   "outputs": [],
   "source": []
  },
  {
   "cell_type": "code",
   "execution_count": null,
   "id": "6058f1a7",
   "metadata": {},
   "outputs": [],
   "source": []
  },
  {
   "cell_type": "code",
   "execution_count": null,
   "id": "a2f36a0d",
   "metadata": {},
   "outputs": [],
   "source": []
  },
  {
   "cell_type": "code",
   "execution_count": null,
   "id": "bc197273",
   "metadata": {},
   "outputs": [],
   "source": []
  },
  {
   "cell_type": "code",
   "execution_count": null,
   "id": "6cf8e56e",
   "metadata": {},
   "outputs": [],
   "source": []
  },
  {
   "cell_type": "code",
   "execution_count": null,
   "id": "670ea315",
   "metadata": {},
   "outputs": [],
   "source": []
  },
  {
   "cell_type": "code",
   "execution_count": null,
   "id": "8eff0902",
   "metadata": {},
   "outputs": [],
   "source": []
  },
  {
   "cell_type": "code",
   "execution_count": null,
   "id": "31a43f39",
   "metadata": {},
   "outputs": [],
   "source": []
  },
  {
   "cell_type": "code",
   "execution_count": null,
   "id": "73c15b81",
   "metadata": {},
   "outputs": [],
   "source": []
  },
  {
   "cell_type": "code",
   "execution_count": null,
   "id": "2ef59b8b",
   "metadata": {},
   "outputs": [],
   "source": [
    "1"
   ]
  },
  {
   "cell_type": "markdown",
   "id": "8e486ccb",
   "metadata": {},
   "source": [
    "# Peer-graded Assignment Abhishek Yadav\n",
    "\n"
   ]
  },
  {
   "cell_type": "code",
   "execution_count": null,
   "id": "7d2bd1fd",
   "metadata": {},
   "outputs": [],
   "source": [
    "2"
   ]
  },
  {
   "cell_type": "markdown",
   "id": "8028bc73",
   "metadata": {},
   "source": [
    "## Introduction\n",
    "\n",
    "In this notebook, we will explore the application of data science methodologies to analyze and solve a specific problem involving credit cards. By leveraging data-driven techniques, we aim to uncover patterns, predict outcomes, and make informed decisions. This analysis will include data preprocessing, exploratory data analysis, model selection, and evaluation. The goal is to demonstrate how data science can be effectively applied to address challenges in the financial sector, particularly in managing credit card-related issues.\n"
   ]
  },
  {
   "cell_type": "code",
   "execution_count": null,
   "id": "efb5840c",
   "metadata": {},
   "outputs": [],
   "source": [
    "## Data Science Languages\n",
    "\n",
    "Here are some of the most commonly used programming languages in data science:\n",
    "\n",
    "- **Python**: Widely used for its simplicity and extensive libraries for data analysis and machine learning, such as pandas, NumPy, scikit-learn, and TensorFlow.\n",
    "- **R**: A language specifically designed for statistical computing and graphics, popular among statisticians and data miners.\n",
    "- **SQL**: Essential for managing and querying large datasets stored in relational databases.\n",
    "- **Julia**: Known for its high performance, particularly in numerical and scientific computing.\n",
    "- **Java**: Often used in large-scale data processing, and integrating with big data technologies like Hadoop.\n",
    "- **Scala**: Commonly used with Apache Spark for big data processing.\n",
    "- **MATLAB**: Used primarily for numerical computing and algorithm development.\n"
   ]
  },
  {
   "cell_type": "code",
   "execution_count": null,
   "id": "b78870bf",
   "metadata": {},
   "outputs": [],
   "source": []
  },
  {
   "cell_type": "code",
   "execution_count": null,
   "id": "892de643",
   "metadata": {},
   "outputs": [],
   "source": []
  },
  {
   "cell_type": "code",
   "execution_count": null,
   "id": "7d0944ec",
   "metadata": {},
   "outputs": [],
   "source": []
  },
  {
   "cell_type": "code",
   "execution_count": null,
   "id": "6a137445",
   "metadata": {},
   "outputs": [],
   "source": []
  },
  {
   "cell_type": "code",
   "execution_count": null,
   "id": "3eabee41",
   "metadata": {},
   "outputs": [],
   "source": []
  },
  {
   "cell_type": "code",
   "execution_count": null,
   "id": "ca29857a",
   "metadata": {},
   "outputs": [],
   "source": []
  },
  {
   "cell_type": "code",
   "execution_count": null,
   "id": "fe642418",
   "metadata": {},
   "outputs": [],
   "source": []
  },
  {
   "cell_type": "code",
   "execution_count": null,
   "id": "85b55147",
   "metadata": {},
   "outputs": [],
   "source": []
  },
  {
   "cell_type": "code",
   "execution_count": null,
   "id": "ceeed2bd",
   "metadata": {},
   "outputs": [],
   "source": []
  },
  {
   "cell_type": "code",
   "execution_count": null,
   "id": "f72cd30d",
   "metadata": {},
   "outputs": [],
   "source": []
  },
  {
   "cell_type": "markdown",
   "id": "f0614689",
   "metadata": {},
   "source": [
    "# Author\n",
    "\n",
    "This notebook was created by:\n",
    "\n",
    "Abhishek Yadav\n",
    "\n",
    "Feel free to reach out with any questions or feedback.\n"
   ]
  },
  {
   "cell_type": "code",
   "execution_count": null,
   "id": "ee72c687",
   "metadata": {},
   "outputs": [],
   "source": []
  },
  {
   "cell_type": "code",
   "execution_count": null,
   "id": "c19f0f89",
   "metadata": {},
   "outputs": [],
   "source": []
  },
  {
   "cell_type": "code",
   "execution_count": null,
   "id": "07c9aa39",
   "metadata": {},
   "outputs": [],
   "source": []
  },
  {
   "cell_type": "code",
   "execution_count": null,
   "id": "da6b1e6d",
   "metadata": {},
   "outputs": [],
   "source": []
  },
  {
   "cell_type": "code",
   "execution_count": null,
   "id": "55ba97c1",
   "metadata": {},
   "outputs": [],
   "source": []
  },
  {
   "cell_type": "code",
   "execution_count": null,
   "id": "dcfb954a",
   "metadata": {},
   "outputs": [],
   "source": []
  },
  {
   "cell_type": "code",
   "execution_count": null,
   "id": "325b2a13",
   "metadata": {},
   "outputs": [],
   "source": []
  },
  {
   "cell_type": "code",
   "execution_count": null,
   "id": "ece1365f",
   "metadata": {},
   "outputs": [],
   "source": []
  },
  {
   "cell_type": "code",
   "execution_count": null,
   "id": "1313b83e",
   "metadata": {},
   "outputs": [],
   "source": [
    "# Peer-graded Assignment Abhishek Yadav\n",
    "\n"
   ]
  }
 ],
 "metadata": {
  "kernelspec": {
   "display_name": "Python 3 (ipykernel)",
   "language": "python",
   "name": "python3"
  },
  "language_info": {
   "codemirror_mode": {
    "name": "ipython",
    "version": 3
   },
   "file_extension": ".py",
   "mimetype": "text/x-python",
   "name": "python",
   "nbconvert_exporter": "python",
   "pygments_lexer": "ipython3",
   "version": "3.9.7"
  }
 },
 "nbformat": 4,
 "nbformat_minor": 5
}
